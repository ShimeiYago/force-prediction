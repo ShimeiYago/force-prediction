{
 "cells": [
  {
   "cell_type": "code",
   "execution_count": 1,
   "metadata": {},
   "outputs": [],
   "source": [
    "import numpy as np\n",
    "%matplotlib inline\n",
    "import matplotlib.pyplot as plt\n",
    "from utils01 import ReadXVGs\n",
    "from utils01 import GROParser"
   ]
  },
  {
   "cell_type": "code",
   "execution_count": 2,
   "metadata": {},
   "outputs": [],
   "source": [
    "groparser = GROParser(\"input/solv_ions_prot.gro\", 1.0)\n",
    "N_ATOMS = groparser.n_atoms\n",
    "ATOM_ALIGN = groparser.atom_align"
   ]
  },
  {
   "cell_type": "code",
   "execution_count": 3,
   "metadata": {},
   "outputs": [],
   "source": [
    "MASS = {'CA': 12.01100, 'C': 12.01100, 'O': 15.99900, 'N': 14.00700}\n",
    "weights = np.array([MASS[atom] for atom in ATOM_ALIGN])"
   ]
  },
  {
   "cell_type": "code",
   "execution_count": 4,
   "metadata": {},
   "outputs": [],
   "source": [
    "ETA = 3 * N_ATOMS\n",
    "BOLTZ = 1.380649 * (0.1*23)"
   ]
  },
  {
   "cell_type": "code",
   "execution_count": 5,
   "metadata": {},
   "outputs": [],
   "source": [
    "fp = \"remote-workspace/04-simulate/trj.npy\"\n",
    "trj_pred = np.load(fp)[:100]\n",
    "\n",
    "fp = \"input/xvg/2fs/MainChain-coord.xvg\"\n",
    "trj = ReadXVGs(None, None, None)._read_xvg(fp)[:100].compute()\n",
    "\n",
    "fp = \"workspace/04-simulate/trj.npy\"\n",
    "trj_pred2 = np.load(fp)[:100]"
   ]
  },
  {
   "cell_type": "code",
   "execution_count": 6,
   "metadata": {},
   "outputs": [],
   "source": [
    "def cal_T(trj, alphas=np.ones((trj.shape[0]-1))):\n",
    "    veloc = trj[1:] - trj[:-1]\n",
    "    veloc = veloc / 0.002\n",
    "    veloc = veloc * np.tile(alphas, (3, N_ATOMS, 1)).transpose(2, 1, 0)\n",
    "    veloc_square = np.sum(np.square(veloc), axis=2)\n",
    "    KE = np.sum(np.multiply(veloc_square, weights), axis=1) / 2\n",
    "#     T = KE * (2 / ETA / BOLTZ)\n",
    "#     return T\n",
    "    return KE"
   ]
  },
  {
   "cell_type": "code",
   "execution_count": 7,
   "metadata": {},
   "outputs": [],
   "source": [
    "Ts_pred = cal_T(trj_pred)\n",
    "Ts = cal_T(trj)\n",
    "Ts_pred2 = cal_T(trj_pred2)"
   ]
  },
  {
   "cell_type": "code",
   "execution_count": 8,
   "metadata": {},
   "outputs": [
    {
     "data": {
      "text/plain": [
       "[<matplotlib.lines.Line2D at 0x7fc49cf70ad0>]"
      ]
     },
     "execution_count": 8,
     "metadata": {},
     "output_type": "execute_result"
    },
    {
     "data": {
      "image/png": "[encoded data removed]",
      "text/plain": [
       "<Figure size 432x288 with 1 Axes>"
      ]
     },
     "metadata": {
      "needs_background": "light"
     },
     "output_type": "display_data"
    }
   ],
   "source": [
    "plt.plot(Ts_pred)\n",
    "plt.plot(Ts)\n",
    "plt.plot(Ts_pred2)"
   ]
  },
  {
   "cell_type": "code",
   "execution_count": null,
   "metadata": {},
   "outputs": [],
   "source": []
  }
 ],
 "metadata": {
  "kernelspec": {
   "display_name": "Python 3",
   "language": "python",
   "name": "python3"
  },
  "language_info": {
   "codemirror_mode": {
    "name": "ipython",
    "version": 3
   },
   "file_extension": ".py",
   "mimetype": "text/x-python",
   "name": "python",
   "nbconvert_exporter": "python",
   "pygments_lexer": "ipython3",
   "version": "3.7.4"
  }
 },
 "nbformat": 4,
 "nbformat_minor": 4
}

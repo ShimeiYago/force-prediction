{
 "cells": [
  {
   "cell_type": "code",
   "execution_count": 1,
   "metadata": {},
   "outputs": [],
   "source": [
    "import argparse\n",
    "import os\n",
    "import sys\n",
    "import h5py\n",
    "\n",
    "from utils01 import ReadXVGs\n",
    "from utils01 import GROParser\n",
    "from utils01 import DiscriptorGenerator"
   ]
  },
  {
   "cell_type": "code",
   "execution_count": 2,
   "metadata": {},
   "outputs": [],
   "source": [
    "groparser = GROParser(\"input/solv_ions_prot.gro\", 1.0)\n",
    "MAINCHAIN = groparser.mainchains\n",
    "N_ATOMS = groparser.n_atoms\n",
    "EACH_N_ATOMS = groparser.each_n_atoms\n",
    "SLICE_INDECES = groparser.slice_indeces\n",
    "ARRANGED_INDECES = groparser.arranged_indeces\n",
    "ADJACENT_INDECES = groparser.adjacent_indeces\n",
    "AB_INDECES = groparser.ab_indeces\n",
    "ATOM_ALIGN = groparser.atom_align\n",
    "CONNECT_INDECES = groparser.connects_indeces\n",
    "INIT_RADIUSES = groparser.init_radiuses\n",
    "INIT_STRUCT = groparser.struct\n",
    "REARRANGED_INDECES = groparser.rearranged_indeces\n",
    "RESID_GROUP_INDECES = groparser.resid_group_indeces\n",
    "TARGET_ATOM_INDECES_FOR_XVG = groparser.target_atom_indeces_for_xvg\n",
    "EACH_ATOM_INDECES = groparser.eachatom_indeces"
   ]
  },
  {
   "cell_type": "code",
   "execution_count": 3,
   "metadata": {},
   "outputs": [],
   "source": [
    "from utils01 import GROParser2\n",
    "groparser = GROParser2(\"input/solv_ions_prot.gro\", 1.0)"
   ]
  },
  {
   "cell_type": "code",
   "execution_count": 4,
   "metadata": {},
   "outputs": [],
   "source": [
    "MAINCHAIN2 = groparser.mainchains\n",
    "N_ATOMS2 = groparser.n_atoms\n",
    "EACH_N_ATOMS2 = groparser.each_n_atoms\n",
    "ARRANGED_INDECES2 = groparser.arranged_indeces\n",
    "SLICE_INDECES2 = groparser.slice_indeces\n",
    "ATOM_ALIGN2 = groparser.atom_align\n",
    "INIT_STRUCT2 = groparser.struct\n",
    "TARGET_ATOM_INDECES_FOR_XVG2 = groparser.target_atom_indeces_for_xvg\n",
    "RESID_GROUP_INDECES2 = groparser.resid_group_indeces"
   ]
  },
  {
   "cell_type": "code",
   "execution_count": null,
   "metadata": {},
   "outputs": [],
   "source": []
  }
 ],
 "metadata": {
  "kernelspec": {
   "display_name": "Python 3",
   "language": "python",
   "name": "python3"
  },
  "language_info": {
   "codemirror_mode": {
    "name": "ipython",
    "version": 3
   },
   "file_extension": ".py",
   "mimetype": "text/x-python",
   "name": "python",
   "nbconvert_exporter": "python",
   "pygments_lexer": "ipython3",
   "version": "3.7.7"
  },
  "toc": {
   "base_numbering": 1,
   "nav_menu": {},
   "number_sections": true,
   "sideBar": true,
   "skip_h1_title": false,
   "title_cell": "Table of Contents",
   "title_sidebar": "Contents",
   "toc_cell": false,
   "toc_position": {},
   "toc_section_display": true,
   "toc_window_display": false
  }
 },
 "nbformat": 4,
 "nbformat_minor": 4
}

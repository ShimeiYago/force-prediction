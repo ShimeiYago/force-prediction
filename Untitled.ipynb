{
 "cells": [
  {
   "cell_type": "code",
   "execution_count": 1,
   "metadata": {},
   "outputs": [],
   "source": [
    "import argparse\n",
    "import os\n",
    "import sys\n",
    "import h5py\n",
    "import numpy as np\n",
    "\n",
    "from utils01 import ReadXVGs\n",
    "from utils01 import GROParser\n",
    "from utils01 import DiscriptorGenerator\n",
    "\n",
    "\n",
    "OUTDIR = 'workspace/01-make-datasets'\n",
    "CUTOFF_RADIUS = 1.0\n",
    "TRAIN_SIZE = 0.9  # used if validation data is specified\n",
    "\n",
    "TRAIN_NAME = \"training\"\n",
    "VAL_NAME = \"validation\"\n",
    "EXPLANATORY_NAME = \"x\"\n",
    "RESPONSE_NAME = \"y\""
   ]
  },
  {
   "cell_type": "code",
   "execution_count": 2,
   "metadata": {},
   "outputs": [],
   "source": [
    "gro = \"input/solv_ions_prot.gro\"\n",
    "cb = False\n",
    "\n",
    "groparser = GROParser(gro, CUTOFF_RADIUS, cb)\n",
    "MAINCHAIN = groparser.mainchains\n",
    "N_ATOMS = groparser.n_atoms\n",
    "EACH_N_ATOMS = groparser.each_n_atoms\n",
    "SLICE_INDECES = groparser.slice_indeces\n",
    "ARRANGED_INDECES = groparser.arranged_indeces\n",
    "ADJACENT_INDECES = groparser.adjacent_indeces\n",
    "AB_INDECES = groparser.ab_indeces\n",
    "ATOM_ALIGN = groparser.atom_align\n",
    "TARGET_ATOM_INDECES_FOR_XVG = groparser.target_atom_indeces_for_xvg\n",
    "RESID_DICT = groparser.resid_dict\n"
   ]
  },
  {
   "cell_type": "code",
   "execution_count": 3,
   "metadata": {},
   "outputs": [
    {
     "data": {
      "text/plain": [
       "[[1063,\n",
       "  754,\n",
       "  445,\n",
       "  136,\n",
       "  1062,\n",
       "  753,\n",
       "  444,\n",
       "  135,\n",
       "  1061,\n",
       "  752,\n",
       "  443,\n",
       "  134,\n",
       "  1060,\n",
       "  751,\n",
       "  442,\n",
       "  133,\n",
       "  1059,\n",
       "  750,\n",
       "  441,\n",
       "  132,\n",
       "  1058,\n",
       "  749,\n",
       "  440,\n",
       "  131,\n",
       "  1057,\n",
       "  748,\n",
       "  439,\n",
       "  130,\n",
       "  1056,\n",
       "  747,\n",
       "  438,\n",
       "  129,\n",
       "  1055,\n",
       "  746,\n",
       "  437,\n",
       "  128,\n",
       "  1054,\n",
       "  745,\n",
       "  436,\n",
       "  127],\n",
       " [446,\n",
       "  755,\n",
       "  1064,\n",
       "  138,\n",
       "  447,\n",
       "  756,\n",
       "  1065,\n",
       "  139,\n",
       "  448,\n",
       "  757,\n",
       "  1066,\n",
       "  140,\n",
       "  449,\n",
       "  758,\n",
       "  1067,\n",
       "  141,\n",
       "  450,\n",
       "  759,\n",
       "  1068,\n",
       "  142,\n",
       "  451,\n",
       "  760,\n",
       "  1069,\n",
       "  143,\n",
       "  452,\n",
       "  761,\n",
       "  1070,\n",
       "  144,\n",
       "  453,\n",
       "  762,\n",
       "  1071,\n",
       "  145,\n",
       "  454,\n",
       "  763,\n",
       "  1072,\n",
       "  146,\n",
       "  455,\n",
       "  764,\n",
       "  1073,\n",
       "  147],\n",
       " [308,\n",
       "  173,\n",
       "  172,\n",
       "  171,\n",
       "  174,\n",
       "  170,\n",
       "  307,\n",
       "  302,\n",
       "  303,\n",
       "  299,\n",
       "  175,\n",
       "  177,\n",
       "  191,\n",
       "  190,\n",
       "  176,\n",
       "  165,\n",
       "  192,\n",
       "  169,\n",
       "  300,\n",
       "  306,\n",
       "  161,\n",
       "  301,\n",
       "  164,\n",
       "  305,\n",
       "  298,\n",
       "  178,\n",
       "  304,\n",
       "  162,\n",
       "  168,\n",
       "  166],\n",
       " [617,\n",
       "  481,\n",
       "  482,\n",
       "  480,\n",
       "  479,\n",
       "  616,\n",
       "  483,\n",
       "  611,\n",
       "  608,\n",
       "  500,\n",
       "  612,\n",
       "  486,\n",
       "  499,\n",
       "  470,\n",
       "  478,\n",
       "  607,\n",
       "  474,\n",
       "  473,\n",
       "  485,\n",
       "  615,\n",
       "  484,\n",
       "  477,\n",
       "  614,\n",
       "  610,\n",
       "  501,\n",
       "  498,\n",
       "  609,\n",
       "  604,\n",
       "  411,\n",
       "  471],\n",
       " [926,\n",
       "  790,\n",
       "  789,\n",
       "  925,\n",
       "  791,\n",
       "  788,\n",
       "  920,\n",
       "  787,\n",
       "  792,\n",
       "  808,\n",
       "  924,\n",
       "  916,\n",
       "  917,\n",
       "  809,\n",
       "  782,\n",
       "  919,\n",
       "  794,\n",
       "  779,\n",
       "  786,\n",
       "  923,\n",
       "  921,\n",
       "  793,\n",
       "  807,\n",
       "  795,\n",
       "  918,\n",
       "  913,\n",
       "  783,\n",
       "  778,\n",
       "  915,\n",
       "  922],\n",
       " [1235,\n",
       "  1099,\n",
       "  1098,\n",
       "  1234,\n",
       "  1100,\n",
       "  1097,\n",
       "  1117,\n",
       "  1229,\n",
       "  1096,\n",
       "  1225,\n",
       "  1226,\n",
       "  1233,\n",
       "  1101,\n",
       "  1088,\n",
       "  1091,\n",
       "  1228,\n",
       "  1222,\n",
       "  1118,\n",
       "  1232,\n",
       "  1095,\n",
       "  1230,\n",
       "  1103,\n",
       "  1087,\n",
       "  1227,\n",
       "  1092,\n",
       "  1102,\n",
       "  1104,\n",
       "  1116,\n",
       "  1223,\n",
       "  1224]]"
      ]
     },
     "execution_count": 3,
     "metadata": {},
     "output_type": "execute_result"
    }
   ],
   "source": [
    "i = 138\n",
    "# [x+1 for x in ADJACENT_INDECES[i-1][2]]\n",
    "ADJACENT_INDECES[i-1]"
   ]
  },
  {
   "cell_type": "code",
   "execution_count": 4,
   "metadata": {},
   "outputs": [
    {
     "data": {
      "text/plain": [
       "[40, 40, 30, 30, 30, 30]"
      ]
     },
     "execution_count": 4,
     "metadata": {},
     "output_type": "execute_result"
    }
   ],
   "source": [
    "groparser.max_n_adjacent"
   ]
  },
  {
   "cell_type": "code",
   "execution_count": 5,
   "metadata": {},
   "outputs": [
    {
     "ename": "NameError",
     "evalue": "name 'stop' is not defined",
     "output_type": "error",
     "traceback": [
      "\u001b[0;31m---------------------------------------------------------------------------\u001b[0m",
      "\u001b[0;31mNameError\u001b[0m                                 Traceback (most recent call last)",
      "\u001b[0;32m<ipython-input-5-491487857bb0>\u001b[0m in \u001b[0;36m<module>\u001b[0;34m\u001b[0m\n\u001b[0;32m----> 1\u001b[0;31m \u001b[0mstop\u001b[0m\u001b[0;34m(\u001b[0m\u001b[0;34m)\u001b[0m\u001b[0;34m\u001b[0m\u001b[0;34m\u001b[0m\u001b[0m\n\u001b[0m",
      "\u001b[0;31mNameError\u001b[0m: name 'stop' is not defined"
     ]
    }
   ],
   "source": [
    "stop()"
   ]
  },
  {
   "cell_type": "code",
   "execution_count": null,
   "metadata": {},
   "outputs": [],
   "source": [
    "discriptor_generator = DiscriptorGenerator(\n",
    "    \"aaa\", 100,\n",
    "    MAINCHAIN, N_ATOMS, EACH_N_ATOMS, SLICE_INDECES,\n",
    "    ADJACENT_INDECES, AB_INDECES, ATOM_ALIGN, RESID_DICT,\n",
    "    EXPLANATORY_NAME, RESPONSE_NAME)\n"
   ]
  },
  {
   "cell_type": "code",
   "execution_count": null,
   "metadata": {},
   "outputs": [],
   "source": [
    "discriptor_generator.MAX_N_ADJACENT"
   ]
  },
  {
   "cell_type": "code",
   "execution_count": null,
   "metadata": {},
   "outputs": [],
   "source": []
  },
  {
   "cell_type": "markdown",
   "metadata": {},
   "source": [
    "# read trj"
   ]
  },
  {
   "cell_type": "code",
   "execution_count": null,
   "metadata": {},
   "outputs": [],
   "source": [
    "input_trj = \"remote-workspace/04-simulate/test60.npy\""
   ]
  },
  {
   "cell_type": "code",
   "execution_count": null,
   "metadata": {},
   "outputs": [],
   "source": [
    "trj = np.load(input_trj)"
   ]
  },
  {
   "cell_type": "code",
   "execution_count": null,
   "metadata": {},
   "outputs": [],
   "source": [
    "trj.shape"
   ]
  },
  {
   "cell_type": "code",
   "execution_count": null,
   "metadata": {},
   "outputs": [],
   "source": [
    "resid = 138"
   ]
  },
  {
   "cell_type": "code",
   "execution_count": null,
   "metadata": {},
   "outputs": [],
   "source": [
    "struct = trj[150]\n",
    "struct = struct[[x*4+1 for x in range(309)]]\n",
    "residues = np.sqrt(np.sum(np.square(struct - struct[resid-1]), axis=1))\n",
    "resid_list_0start = np.argsort(residues)[1:len([x for x in residues if x <= CUTOFF_RADIUS])]\n",
    "\"resid \" + \" or resid \".join([str(r+1) for r in resid_list_0start])"
   ]
  },
  {
   "cell_type": "code",
   "execution_count": null,
   "metadata": {},
   "outputs": [],
   "source": []
  }
 ],
 "metadata": {
  "kernelspec": {
   "display_name": "Python 3",
   "language": "python",
   "name": "python3"
  },
  "language_info": {
   "codemirror_mode": {
    "name": "ipython",
    "version": 3
   },
   "file_extension": ".py",
   "mimetype": "text/x-python",
   "name": "python",
   "nbconvert_exporter": "python",
   "pygments_lexer": "ipython3",
   "version": "3.7.4"
  },
  "toc": {
   "base_numbering": 1,
   "nav_menu": {},
   "number_sections": true,
   "sideBar": true,
   "skip_h1_title": false,
   "title_cell": "Table of Contents",
   "title_sidebar": "Contents",
   "toc_cell": false,
   "toc_position": {},
   "toc_section_display": true,
   "toc_window_display": false
  }
 },
 "nbformat": 4,
 "nbformat_minor": 4
}

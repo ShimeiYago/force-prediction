{
 "cells": [
  {
   "cell_type": "code",
   "execution_count": 1,
   "metadata": {},
   "outputs": [],
   "source": [
    "import numpy as np\n",
    "import pandas as pd\n",
    "import matplotlib.pyplot as plt\n",
    "%matplotlib inline\n",
    "\n",
    "from utils01 import GROParser"
   ]
  },
  {
   "cell_type": "code",
   "execution_count": 2,
   "metadata": {},
   "outputs": [],
   "source": [
    "cb_mode = False\n",
    "# cb_mode = True"
   ]
  },
  {
   "cell_type": "code",
   "execution_count": 3,
   "metadata": {},
   "outputs": [],
   "source": [
    "gro = \"input/solv_ions_prot.gro\"\n",
    "# gro = \"input/topo.gro\"\n",
    "CUTOFF_RADIUS = 1.0\n",
    "\n",
    "groparser = GROParser(gro, CUTOFF_RADIUS, cb_mode)\n",
    "MAINCHAIN = groparser.mainchains\n",
    "N_ATOMS = groparser.n_atoms\n",
    "EACH_N_ATOMS = groparser.each_n_atoms\n",
    "SLICE_INDECES = groparser.slice_indeces\n",
    "ARRANGED_INDECES = groparser.arranged_indeces\n",
    "REARRANGED_INDECES = groparser.rearranged_indeces\n",
    "ADJACENT_INDECES = groparser.adjacent_indeces\n",
    "AB_INDECES = groparser.ab_indeces\n",
    "ATOM_ALIGN = groparser.atom_align\n",
    "TARGET_ATOM_INDECES_FOR_XVG = groparser.target_atom_indeces_for_xvg"
   ]
  },
  {
   "cell_type": "markdown",
   "metadata": {},
   "source": [
    "# read trj"
   ]
  },
  {
   "cell_type": "code",
   "execution_count": 4,
   "metadata": {},
   "outputs": [
    {
     "data": {
      "text/plain": [
       "(201, 1236, 3)"
      ]
     },
     "execution_count": 4,
     "metadata": {},
     "output_type": "execute_result"
    }
   ],
   "source": [
    "filepath = \"input/xvg/run2/Protein-coord.xvg\"\n",
    "# filepath = \"input/run1/MainChain-coord.xvg\"\n",
    "# filepath = \"input/2fs/MainChain-coord.xvg\"\n",
    "\n",
    "acttrj = pd.read_csv(filepath, comment='@', delimiter='\\t',\n",
    "                            header=None, skiprows=14).values[:, 1:]\n",
    "acttrj = acttrj.reshape(acttrj.shape[0], -1, 3)[:, TARGET_ATOM_INDECES_FOR_XVG, :]\n",
    "acttrj = acttrj[:, ARRANGED_INDECES, :]\n",
    "acttrj.shape"
   ]
  },
  {
   "cell_type": "markdown",
   "metadata": {},
   "source": [
    "# 関数"
   ]
  },
  {
   "cell_type": "code",
   "execution_count": 5,
   "metadata": {},
   "outputs": [],
   "source": [
    "def cal_degrees(coords_center, coords2, coords3):\n",
    "    us = np.subtract(coords2, coords_center)\n",
    "    vs = np.subtract(coords3, coords_center)\n",
    "    \n",
    "    inns = np.inner(us, vs)[0]\n",
    "    norms = np.sqrt(np.sum(np.square(us), axis=1)) * np.sqrt(np.sum(np.square(vs), axis=1))\n",
    "\n",
    "    cos_thetas = inns / norms\n",
    "    degs = np.rad2deg(np.arccos(np.clip(cos_thetas, -1.0, 1.0)))\n",
    "    return degs"
   ]
  },
  {
   "cell_type": "code",
   "execution_count": 6,
   "metadata": {},
   "outputs": [],
   "source": [
    "def dihedral(p0, p1, p2, p3): \n",
    "    \"\"\"Praxeolitic formula \n",
    "    1 sqrt, 1 cross product\"\"\" \n",
    "#     p0 = p[0] \n",
    "#     p1 = p[1] \n",
    "#     p2 = p[2] \n",
    "#     p3 = p[3] \n",
    "\n",
    "    b0 = -1.0*(p1 - p0) \n",
    "    b1 = p2 - p1 \n",
    "    b2 = p3 - p2 \n",
    "\n",
    "    # normalize b1 so that it does not influence magnitude of vector \n",
    "    # rejections that come next \n",
    "    b1 = np.divide(b1, np.linalg.norm(b1))\n",
    "\n",
    "    # vector rejections \n",
    "    # v = projection of b0 onto plane perpendicular to b1 \n",
    "    # = b0 minus component that aligns with b1 \n",
    "    # w = projection of b2 onto plane perpendicular to b1 \n",
    "    # = b2 minus component that aligns with b1 \n",
    "    v = b0 - np.dot(b0, b1)*b1 \n",
    "    w = b2 - np.dot(b2, b1)*b1 \n",
    "\n",
    "    # angle between v and w in a plane is the torsion angle \n",
    "    # v and w may not be normalized but that's fine since tan is y/x \n",
    "    x = np.dot(v, w) \n",
    "    y = np.dot(np.cross(b1, v), w) \n",
    "    return np.degrees(np.arctan2(y, x)) "
   ]
  },
  {
   "cell_type": "code",
   "execution_count": null,
   "metadata": {},
   "outputs": [],
   "source": []
  },
  {
   "cell_type": "markdown",
   "metadata": {},
   "source": [
    "# こうなる？"
   ]
  },
  {
   "cell_type": "code",
   "execution_count": 7,
   "metadata": {},
   "outputs": [
    {
     "data": {
      "text/plain": [
       "(1236, 3)"
      ]
     },
     "execution_count": 7,
     "metadata": {},
     "output_type": "execute_result"
    }
   ],
   "source": [
    "struct = acttrj[0]\n",
    "struct.shape"
   ]
  },
  {
   "cell_type": "code",
   "execution_count": 8,
   "metadata": {},
   "outputs": [],
   "source": [
    "r = 0.134\n",
    "theta = 96\n",
    "phi = -42"
   ]
  },
  {
   "cell_type": "code",
   "execution_count": 9,
   "metadata": {},
   "outputs": [],
   "source": [
    "coord_c = np.array([1/2, 1, 0])\n",
    "coord_ca = np.array([1, 0, 0])\n",
    "coord_n = np.array([0, 0, 0])"
   ]
  },
  {
   "cell_type": "code",
   "execution_count": 10,
   "metadata": {},
   "outputs": [],
   "source": [
    "x = r  * np.cos(np.deg2rad(theta))\n",
    "y = r  * np.cos(np.deg2rad(phi))\n",
    "z = np.sqrt(r**2 - x**2 - y**2)"
   ]
  },
  {
   "cell_type": "code",
   "execution_count": 11,
   "metadata": {},
   "outputs": [
    {
     "data": {
      "text/plain": [
       "array([-0.01400681,  0.09958141,  0.0885627 ])"
      ]
     },
     "execution_count": 11,
     "metadata": {},
     "output_type": "execute_result"
    }
   ],
   "source": [
    "result = np.array([x,y,z])\n",
    "result"
   ]
  },
  {
   "cell_type": "markdown",
   "metadata": {},
   "source": [
    "# テスト"
   ]
  },
  {
   "cell_type": "code",
   "execution_count": 12,
   "metadata": {
    "scrolled": true
   },
   "outputs": [
    {
     "data": {
      "text/plain": [
       "0.134"
      ]
     },
     "execution_count": 12,
     "metadata": {},
     "output_type": "execute_result"
    }
   ],
   "source": [
    "np.sqrt(np.sum(np.square(result - coord_n)))"
   ]
  },
  {
   "cell_type": "code",
   "execution_count": 13,
   "metadata": {},
   "outputs": [
    {
     "data": {
      "text/plain": [
       "array([96.])"
      ]
     },
     "execution_count": 13,
     "metadata": {},
     "output_type": "execute_result"
    }
   ],
   "source": [
    "cal_degrees(coord_n.reshape(1, -1), coord_ca.reshape(1, -1), result.reshape(1, -1))"
   ]
  },
  {
   "cell_type": "code",
   "execution_count": 14,
   "metadata": {},
   "outputs": [
    {
     "data": {
      "text/plain": [
       "41.64828828252193"
      ]
     },
     "execution_count": 14,
     "metadata": {},
     "output_type": "execute_result"
    }
   ],
   "source": [
    "dihedral(result, coord_ca, coord_n, coord_c)"
   ]
  },
  {
   "cell_type": "markdown",
   "metadata": {},
   "source": [
    "# 回転"
   ]
  },
  {
   "cell_type": "code",
   "execution_count": 15,
   "metadata": {},
   "outputs": [],
   "source": [
    "def _e(R):  # np.ndarray function\n",
    "    radius = np.linalg.norm(R, axis=0, ord=2)\n",
    "    return np.divide(R, radius)\n",
    "\n",
    "def _cal_rotation_matrix(Ri_a, Ri_b):\n",
    "    # Ri.shape = (,3)\n",
    "\n",
    "    # rotation matrix\n",
    "    e1 = _e(Ri_a)\n",
    "    e2 = _e(np.subtract(Ri_b, np.dot(Ri_b, e1)*e1))\n",
    "    e3 = np.cross(e1, e2)\n",
    "    rotation_matrix = np.array([e1, e2, e3]).T\n",
    "\n",
    "    return rotation_matrix"
   ]
  },
  {
   "cell_type": "code",
   "execution_count": 16,
   "metadata": {},
   "outputs": [],
   "source": [
    "coord_c = struct[SLICE_INDECES['C'][0]]\n",
    "coord_ca = struct[SLICE_INDECES['CA'][0]]\n",
    "coord_n = struct[SLICE_INDECES['N'][0]]"
   ]
  },
  {
   "cell_type": "code",
   "execution_count": 17,
   "metadata": {},
   "outputs": [
    {
     "data": {
      "text/plain": [
       "array([[ 0.75163774,  0.40778663,  0.51841177],\n",
       "       [ 0.06437952, -0.82758266,  0.55763986],\n",
       "       [ 0.65642667, -0.38576806, -0.64829548]])"
      ]
     },
     "execution_count": 17,
     "metadata": {},
     "output_type": "execute_result"
    }
   ],
   "source": [
    "rotation_matrix = _cal_rotation_matrix(coord_ca - coord_n, coord_c - coord_n)\n",
    "rotation_matrix"
   ]
  },
  {
   "cell_type": "code",
   "execution_count": 18,
   "metadata": {},
   "outputs": [
    {
     "data": {
      "text/plain": [
       "array([1.45201186, 4.2266925 , 4.71381543])"
      ]
     },
     "execution_count": 18,
     "metadata": {},
     "output_type": "execute_result"
    }
   ],
   "source": [
    "dummy_c = np.dot(result, rotation_matrix.T) + coord_n\n",
    "dummy_c"
   ]
  },
  {
   "cell_type": "markdown",
   "metadata": {},
   "source": [
    "# テスト"
   ]
  },
  {
   "cell_type": "code",
   "execution_count": 19,
   "metadata": {
    "scrolled": true
   },
   "outputs": [
    {
     "data": {
      "text/plain": [
       "0.13400000000000017"
      ]
     },
     "execution_count": 19,
     "metadata": {},
     "output_type": "execute_result"
    }
   ],
   "source": [
    "np.sqrt(np.sum(np.square(dummy_c - coord_n)))"
   ]
  },
  {
   "cell_type": "code",
   "execution_count": 20,
   "metadata": {},
   "outputs": [
    {
     "data": {
      "text/plain": [
       "array([96.])"
      ]
     },
     "execution_count": 20,
     "metadata": {},
     "output_type": "execute_result"
    }
   ],
   "source": [
    "cal_degrees(coord_n.reshape(1, -1), coord_ca.reshape(1, -1), dummy_c.reshape(1, -1))"
   ]
  },
  {
   "cell_type": "code",
   "execution_count": 21,
   "metadata": {},
   "outputs": [
    {
     "data": {
      "text/plain": [
       "41.64828828252211"
      ]
     },
     "execution_count": 21,
     "metadata": {},
     "output_type": "execute_result"
    }
   ],
   "source": [
    "dihedral(dummy_c, coord_ca, coord_n, coord_c)"
   ]
  },
  {
   "cell_type": "code",
   "execution_count": null,
   "metadata": {},
   "outputs": [],
   "source": []
  }
 ],
 "metadata": {
  "kernelspec": {
   "display_name": "Python 3",
   "language": "python",
   "name": "python3"
  },
  "language_info": {
   "codemirror_mode": {
    "name": "ipython",
    "version": 3
   },
   "file_extension": ".py",
   "mimetype": "text/x-python",
   "name": "python",
   "nbconvert_exporter": "python",
   "pygments_lexer": "ipython3",
   "version": "3.7.7"
  },
  "toc": {
   "base_numbering": 1,
   "nav_menu": {},
   "number_sections": true,
   "sideBar": true,
   "skip_h1_title": false,
   "title_cell": "Table of Contents",
   "title_sidebar": "Contents",
   "toc_cell": false,
   "toc_position": {},
   "toc_section_display": true,
   "toc_window_display": false
  }
 },
 "nbformat": 4,
 "nbformat_minor": 4
}

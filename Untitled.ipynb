{
 "cells": [
  {
   "cell_type": "code",
   "execution_count": 11,
   "metadata": {},
   "outputs": [],
   "source": [
    "import numpy as np\n",
    "import dask.array as da\n",
    "import h5pyb"
   ]
  },
  {
   "cell_type": "code",
   "execution_count": 13,
   "metadata": {},
   "outputs": [],
   "source": [
    "TRAIN_NAME = \"training\"\n",
    "VAL_NAME = \"validation\"\n",
    "EXPLANATORY_NAME = \"x\"\n",
    "RESPONSE_NAME = \"y\""
   ]
  },
  {
   "cell_type": "code",
   "execution_count": 17,
   "metadata": {},
   "outputs": [
    {
     "name": "stdout",
     "output_type": "stream",
     "text": [
      "((33350, 13000), (493,)) ((46350,), (3,))\n"
     ]
    }
   ],
   "source": [
    "with h5py.File(\"workspace/01-make-datasets/datasets.hdf5\", mode='r+') as f:\n",
    "    # prepare data\n",
    "    X_train = da.from_array(f[f'/{TRAIN_NAME}/{EXPLANATORY_NAME}'])\n",
    "    Y_train = da.from_array(f[f'/{TRAIN_NAME}/{RESPONSE_NAME}'])\n",
    "\n",
    "    print(X_train.chunks, Y_train.chunks)\n",
    "\n",
    "    ramdom_order = da.random.permutation(X_train.shape[0])\n",
    "\n",
    "    X_train = X_train[ramdom_order]\n",
    "    Y_train = Y_train[ramdom_order]\n",
    "\n",
    "    da.to_hdf5(\"workspace/01-make-datasets/datasets.hdf5\", f'/{TRAIN_NAME}/{EXPLANATORY_NAME}', X_train)\n",
    "    da.to_hdf5(\"workspace/01-make-datasets/datasets.hdf5\", f'/{TRAIN_NAME}/{RESPONSE_NAME}', Y_train)\n"
   ]
  },
  {
   "cell_type": "code",
   "execution_count": null,
   "metadata": {},
   "outputs": [],
   "source": []
  }
 ],
 "metadata": {
  "kernelspec": {
   "display_name": "Python 3",
   "language": "python",
   "name": "python3"
  },
  "language_info": {
   "codemirror_mode": {
    "name": "ipython",
    "version": 3
   },
   "file_extension": ".py",
   "mimetype": "text/x-python",
   "name": "python",
   "nbconvert_exporter": "python",
   "pygments_lexer": "ipython3",
   "version": "3.7.4"
  }
 },
 "nbformat": 4,
 "nbformat_minor": 4
}

{
 "cells": [
  {
   "cell_type": "code",
   "execution_count": 1,
   "metadata": {},
   "outputs": [],
   "source": [
    "import argparse\n",
    "import os\n",
    "import h5py\n",
    "import numpy as np\n",
    "\n",
    "from utils01 import ReadXVGs\n",
    "from utils01 import GROParser\n",
    "from utils01 import DiscriptorGenerator\n",
    "from utils04 import LeapFrog\n",
    "\n",
    "from utils_keras import DNN\n",
    "\n",
    "\n",
    "DATASETDIR = \"workspace/01-make-datasets\"\n",
    "CUTOFF_RADIUS = 1.0\n",
    "OUTDIR = \"workspace/04-simulate\"\n",
    "\n",
    "SCALING_GROUP = [[1], [309]]\n"
   ]
  },
  {
   "cell_type": "code",
   "execution_count": 2,
   "metadata": {},
   "outputs": [],
   "source": [
    "%matplotlib inline\n",
    "import matplotlib.pyplot as plt"
   ]
  },
  {
   "cell_type": "code",
   "execution_count": 3,
   "metadata": {},
   "outputs": [],
   "source": [
    "parser = argparse.ArgumentParser()\n",
    "parser.add_argument('--coord', type=str, help='coord file (.xvg)')\n",
    "parser.add_argument('--init_time', type=int, default=0, help='init time to start simulation')\n",
    "parser.add_argument('--gro', type=str, help='specify .gro path if want to include amino infomation into datasets')\n",
    "parser.add_argument('--dataset', type=str,\n",
    "                    default=os.path.join(DATASETDIR, 'datasets.hdf5'),\n",
    "                    help='input datasets')\n",
    "\n",
    "parser.add_argument('--model', type=int, default=1, help='model number')\n",
    "parser.add_argument('--weights', type=str, nargs=4, required=True, help='model weights (N, CA, C, O)')\n",
    "\n",
    "parser.add_argument('--len', type=int, default=5000, help='simulation length')\n",
    "parser.add_argument('-o', type=str, default=\"trj\", help='output name')\n",
    "parser.add_argument('-k', type=float, default=0, help='spring constant')\n",
    "\n",
    "a = \"--coord input/xvg/2fs/MainChain-coord.xvg --dataset workspace/01-make-datasets/datasets.hdf5 --gro input/solv_ions_prot.gro --weights workspace/03-learning/N/try002/weights/epoch010.hdf5 workspace/03-learning/CA/try002/weights/epoch010.hdf5 workspace/03-learning/C/try002/weights/epoch010.hdf5 workspace/03-learning/O/try002/weights/epoch010.hdf5 --len 100\"\n",
    "# a = \"--coord input/2fs/MainChain-coord.xvg --dataset workspace/01-make-datasets/2fs.hdf5 --gro input/topo.gro --weights workspace/03-learning/N/try000/weights/epoch300.hdf5 workspace/03-learning/CA/try000/weights/epoch300.hdf5 workspace/03-learning/C/try000/weights/epoch300.hdf5 workspace/03-learning/O/try000/weights/epoch300.hdf5 --len 100\"\n",
    "\n",
    "args = parser.parse_args(args=a.split())\n",
    "\n"
   ]
  },
  {
   "cell_type": "code",
   "execution_count": 4,
   "metadata": {},
   "outputs": [],
   "source": [
    "# ## load gro file ## #\n",
    "groparser = GROParser(args.gro, CUTOFF_RADIUS)\n",
    "MAINCHAIN = groparser.mainchains\n",
    "N_ATOMS = groparser.n_atoms\n",
    "EACH_N_ATOMS = groparser.each_n_atoms\n",
    "SLICE_INDECES = groparser.slice_indeces\n",
    "ARRANGED_INDECES = groparser.arranged_indeces\n",
    "ADJACENT_INDECES = groparser.adjacent_indeces\n",
    "AB_INDECES = groparser.ab_indeces\n",
    "ATOM_ALIGN = groparser.atom_align\n",
    "CONNECT_INDECES = groparser.connects_indeces\n",
    "INIT_RADIUSES = groparser.init_radiuses\n",
    "REARRANGED_INDECES = groparser.rearranged_indeces\n",
    "RESID_GROUP_INDECES = groparser.resid_group_indeces\n"
   ]
  },
  {
   "cell_type": "code",
   "execution_count": 5,
   "metadata": {},
   "outputs": [],
   "source": [
    "fp_force = \"input/xvg/2fs/MainChain-force.xvg\"\n",
    "# fp_force = \"input/2fs/MainChain-force.xvg\"\n",
    "actual_forces = ReadXVGs(None, None, ARRANGED_INDECES)._read_xvg(fp_force).compute()[:, ARRANGED_INDECES, :]"
   ]
  },
  {
   "cell_type": "code",
   "execution_count": 6,
   "metadata": {},
   "outputs": [],
   "source": [
    "coords = ReadXVGs(None, None, ARRANGED_INDECES)._read_xvg(args.coord).compute()[:, ARRANGED_INDECES, :]"
   ]
  },
  {
   "cell_type": "code",
   "execution_count": 7,
   "metadata": {},
   "outputs": [],
   "source": [
    "# ## init strcuct ## #\n",
    "init_structs = coords[args.init_time:args.init_time+2]\n"
   ]
  },
  {
   "cell_type": "code",
   "execution_count": 8,
   "metadata": {},
   "outputs": [],
   "source": [
    "# ## discriptor generator ## #\n",
    "discriptor_generator = DiscriptorGenerator(\n",
    "    None, None,\n",
    "    MAINCHAIN, N_ATOMS, EACH_N_ATOMS, SLICE_INDECES,\n",
    "    ADJACENT_INDECES, AB_INDECES, ATOM_ALIGN,\n",
    "    None, None)\n",
    "\n"
   ]
  },
  {
   "cell_type": "code",
   "execution_count": 9,
   "metadata": {},
   "outputs": [],
   "source": [
    "# ## read models ## #\n",
    "inputdims = discriptor_generator.INPUTDIMS\n",
    "models = {}\n",
    "for fp in args.weights:\n",
    "    for atom in MAINCHAIN:\n",
    "        if f'/{atom}/' in fp:\n",
    "            dnn = DNN(inputdims[atom], None)\n",
    "            model = dnn(args.model)\n",
    "            dnn = DNN(inputdims[atom], None)\n",
    "            model = dnn(args.model)\n",
    "            model.load_weights(fp)\n",
    "            models[atom] = model\n",
    "\n"
   ]
  },
  {
   "cell_type": "code",
   "execution_count": 10,
   "metadata": {},
   "outputs": [],
   "source": [
    "# ## normalization values ## #\n",
    "normalization = {}\n",
    "with h5py.File(args.dataset, mode='r') as f:\n",
    "    for atom in MAINCHAIN:\n",
    "        y_mean, y_std = f[f'/{atom}/normalization'][...]\n",
    "        normalization[atom] = [y_mean, y_std]\n",
    "\n"
   ]
  },
  {
   "cell_type": "code",
   "execution_count": 11,
   "metadata": {},
   "outputs": [],
   "source": [
    "# resid group indeces\n",
    "group_indeces = []\n",
    "for resid_list in SCALING_GROUP:\n",
    "    indeces = sum([RESID_GROUP_INDECES[resid] for resid in resid_list], [])\n",
    "    group_indeces.append(indeces)\n"
   ]
  },
  {
   "cell_type": "code",
   "execution_count": 12,
   "metadata": {},
   "outputs": [],
   "source": [
    "# ## simulate ## #\n",
    "leapfrog = LeapFrog(discriptor_generator, models, normalization, args.k,\n",
    "                    N_ATOMS, MAINCHAIN, SLICE_INDECES, ATOM_ALIGN,\n",
    "                    group_indeces,\n",
    "                    CONNECT_INDECES, INIT_RADIUSES, inputdims,\n",
    "                    init_structs)\n"
   ]
  },
  {
   "cell_type": "markdown",
   "metadata": {},
   "source": [
    "# pred force"
   ]
  },
  {
   "cell_type": "code",
   "execution_count": 13,
   "metadata": {},
   "outputs": [],
   "source": [
    "pred_forces = np.empty(actual_forces.shape)\n",
    "for i, struct in enumerate(coords):\n",
    "    pred_forces[i] = leapfrog._cal_force(struct)"
   ]
  },
  {
   "cell_type": "code",
   "execution_count": 14,
   "metadata": {},
   "outputs": [
    {
     "data": {
      "text/plain": [
       "(101, 1235, 3)"
      ]
     },
     "execution_count": 14,
     "metadata": {},
     "output_type": "execute_result"
    }
   ],
   "source": [
    "actual_forces.shape"
   ]
  },
  {
   "cell_type": "code",
   "execution_count": 15,
   "metadata": {},
   "outputs": [
    {
     "data": {
      "text/plain": [
       "(101, 1235, 3)"
      ]
     },
     "execution_count": 15,
     "metadata": {},
     "output_type": "execute_result"
    }
   ],
   "source": [
    "pred_forces.shape"
   ]
  },
  {
   "cell_type": "code",
   "execution_count": 20,
   "metadata": {},
   "outputs": [
    {
     "data": {
      "text/plain": [
       "(101, 1235)"
      ]
     },
     "execution_count": 20,
     "metadata": {},
     "output_type": "execute_result"
    }
   ],
   "source": [
    "diff_forces = np.sqrt(np.sum(np.square(pred_forces - actual_forces), axis=2))\n",
    "diff_forces.shape"
   ]
  },
  {
   "cell_type": "code",
   "execution_count": 17,
   "metadata": {},
   "outputs": [
    {
     "data": {
      "text/plain": [
       "{'N': [0, 309], 'CA': [309, 618], 'C': [618, 927], 'O': [927, 1235]}"
      ]
     },
     "execution_count": 17,
     "metadata": {},
     "output_type": "execute_result"
    }
   ],
   "source": [
    "SLICE_INDECES"
   ]
  },
  {
   "cell_type": "code",
   "execution_count": 21,
   "metadata": {},
   "outputs": [
    {
     "data": {
      "text/plain": [
       "<matplotlib.legend.Legend at 0x7f8429f8db50>"
      ]
     },
     "execution_count": 21,
     "metadata": {},
     "output_type": "execute_result"
    },
    {
     "data": {
      "image/png": "[encoded data removed]",
      "text/plain": [
       "<Figure size 432x288 with 1 Axes>"
      ]
     },
     "metadata": {
      "needs_background": "light"
     },
     "output_type": "display_data"
    }
   ],
   "source": [
    "diff_forces_each_atom = np.mean(diff_forces, axis=0)\n",
    "for atom in MAINCHAIN:\n",
    "    i, j = SLICE_INDECES[atom]\n",
    "    diffs = diff_forces_each_atom[i:j]\n",
    "    plt.plot(diffs, label=atom)\n",
    "\n",
    "plt.legend()"
   ]
  },
  {
   "cell_type": "code",
   "execution_count": 19,
   "metadata": {
    "scrolled": true
   },
   "outputs": [
    {
     "ename": "NameError",
     "evalue": "name 'stop' is not defined",
     "output_type": "error",
     "traceback": [
      "\u001b[0;31m----------------------------------------------------------------\u001b[0m",
      "\u001b[0;31mNameError\u001b[0m                      Traceback (most recent call last)",
      "\u001b[0;32m<ipython-input-19-491487857bb0>\u001b[0m in \u001b[0;36m<module>\u001b[0;34m\u001b[0m\n\u001b[0;32m----> 1\u001b[0;31m \u001b[0mstop\u001b[0m\u001b[0;34m(\u001b[0m\u001b[0;34m)\u001b[0m\u001b[0;34m\u001b[0m\u001b[0;34m\u001b[0m\u001b[0m\n\u001b[0m",
      "\u001b[0;31mNameError\u001b[0m: name 'stop' is not defined"
     ]
    }
   ],
   "source": [
    "stop()"
   ]
  },
  {
   "cell_type": "code",
   "execution_count": null,
   "metadata": {},
   "outputs": [],
   "source": [
    "# trj = np.zeros((args.len, N_ATOMS, 3))\n",
    "# trj[0:2] = init_structs\n",
    "\n",
    "# for t in range(1, args.len-1):\n",
    "#     trj[t+1] = leapfrog(trj[t-1], trj[t])\n",
    "#     print('\\r', t+2, '/', args.len, end=\"\")\n",
    "# print()\n",
    "\n",
    "# trj = trj[:, REARRANGED_INDECES, :]\n"
   ]
  },
  {
   "cell_type": "markdown",
   "metadata": {},
   "source": [
    "# cal force"
   ]
  },
  {
   "cell_type": "code",
   "execution_count": null,
   "metadata": {},
   "outputs": [],
   "source": [
    "# ## cal force ## #\n",
    "def cal_force(discriptors):\n",
    "    discriptors = np.tile(discriptors, (N_ATOMS, 1)).reshape(N_ATOMS, -1, 3)\n",
    "    discriptors = discriptors - discriptors.transpose(1, 0, 2)\n",
    "\n",
    "    discriptor, rot_matrices = discriptor_generator._descriptor(discriptors)\n",
    "\n",
    "    forces = np.zeros((N_ATOMS, 3))\n",
    "    for atom in MAINCHAIN:\n",
    "        i, j = SLICE_INDECES[atom]\n",
    "        force = model[atom].predict(discriptor[i:j])\n",
    "#         y_mean, y_std = normalization[atom]\n",
    "#         force = np.add(np.multiply(force, y_std), y_mean)\n",
    "        forces[i:j] = force\n",
    "\n",
    "    # rotate\n",
    "    forces = np.array([np.dot(force, np.linalg.inv(rot_matrix)) for force, rot_matrix in zip(forces, rot_matrices)])\n",
    "\n",
    "    return forces\n"
   ]
  },
  {
   "cell_type": "code",
   "execution_count": null,
   "metadata": {},
   "outputs": [],
   "source": [
    "pred = np.array([cal_force(coord) for coord in coords])\n",
    "pred.shape"
   ]
  },
  {
   "cell_type": "code",
   "execution_count": null,
   "metadata": {},
   "outputs": [],
   "source": [
    "for atom in MAINCHAIN:\n",
    "    i, j = SLICE_INDECES[atom]\n",
    "    y_mean, y_std = normalization[atom]\n",
    "    forces[:, i:j, :] = np.divide(np.subtract(forces[:, i:j, :], y_mean), y_std)"
   ]
  },
  {
   "cell_type": "code",
   "execution_count": null,
   "metadata": {},
   "outputs": [],
   "source": [
    "trjlen = 100\n",
    "atomlist = [0,1,2]\n",
    "\n",
    "fig = plt.figure(figsize=(30,8*len(atomlist)))\n",
    "for i, atom in enumerate(atomlist):\n",
    "    for x in [0,1,2]:\n",
    "        ax = fig.add_subplot(len(atomlist), 3, x+i*3+1)\n",
    "        ax.plot(pred[:trjlen, atom, x])\n",
    "        ax.plot(forces[:trjlen, atom, x])"
   ]
  },
  {
   "cell_type": "code",
   "execution_count": null,
   "metadata": {},
   "outputs": [],
   "source": [
    "x = pred-forces"
   ]
  },
  {
   "cell_type": "code",
   "execution_count": null,
   "metadata": {},
   "outputs": [],
   "source": [
    "np.mean(np.square(x))"
   ]
  },
  {
   "cell_type": "code",
   "execution_count": null,
   "metadata": {},
   "outputs": [],
   "source": []
  }
 ],
 "metadata": {
  "kernelspec": {
   "display_name": "Python 3",
   "language": "python",
   "name": "python3"
  },
  "language_info": {
   "codemirror_mode": {
    "name": "ipython",
    "version": 3
   },
   "file_extension": ".py",
   "mimetype": "text/x-python",
   "name": "python",
   "nbconvert_exporter": "python",
   "pygments_lexer": "ipython3",
   "version": "3.7.7"
  }
 },
 "nbformat": 4,
 "nbformat_minor": 4
}
